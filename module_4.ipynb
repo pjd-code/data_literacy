{
  "nbformat": 4,
  "nbformat_minor": 0,
  "metadata": {
    "colab": {
      "provenance": [],
      "authorship_tag": "ABX9TyOwDuxeyrssEba5pGnBSsv7",
      "include_colab_link": true
    },
    "kernelspec": {
      "name": "python3",
      "display_name": "Python 3"
    },
    "language_info": {
      "name": "python"
    }
  },
  "cells": [
    {
      "cell_type": "markdown",
      "metadata": {
        "id": "view-in-github",
        "colab_type": "text"
      },
      "source": [
        "<a href=\"https://colab.research.google.com/github/pjd-code/data_literacy/blob/main/module_4.ipynb\" target=\"_parent\"><img src=\"https://colab.research.google.com/assets/colab-badge.svg\" alt=\"Open In Colab\"/></a>"
      ]
    },
    {
      "cell_type": "code",
      "source": [
        "!git clone https://github.com/pjd-code/data_literacy.git"
      ],
      "metadata": {
        "id": "_xvU05D8SuhT"
      },
      "execution_count": null,
      "outputs": []
    },
    {
      "cell_type": "code",
      "execution_count": null,
      "metadata": {
        "id": "qapsO1EfDzjv"
      },
      "outputs": [],
      "source": [
        "#you can use the rpy2 package in the Python runtime, this loads that package\n",
        "#now you can run R code by using the %%R magic command\n",
        "%load_ext rpy2.ipython"
      ]
    },
    {
      "cell_type": "code",
      "source": [
        "%cd /content/data_literacy"
      ],
      "metadata": {
        "id": "n8F53qa6Pesi"
      },
      "execution_count": null,
      "outputs": []
    },
    {
      "cell_type": "code",
      "source": [
        "%%R\n",
        "#setwd(\"C:/Users/Preston/Desktop\")\n",
        "dss <- read.table(\"ds_salaries.csv\", header=T, sep=\",\")"
      ],
      "metadata": {
        "id": "PvtZm44iRH0Z"
      },
      "execution_count": null,
      "outputs": []
    },
    {
      "cell_type": "code",
      "source": [
        "%%R\n",
        "head(dss)"
      ],
      "metadata": {
        "id": "oxzYI2f1RYcH"
      },
      "execution_count": null,
      "outputs": []
    },
    {
      "cell_type": "code",
      "source": [
        "# prompt: how do i load the prcomp library\n",
        "\n",
        "%%R\n",
        "install.packages(\"randomForest\")\n",
        "library(randomForest)"
      ],
      "metadata": {
        "id": "TfvPK9EWKoIH"
      },
      "execution_count": null,
      "outputs": []
    },
    {
      "cell_type": "code",
      "source": [
        "# prompt: how can i split dss into a training and test set?\n",
        "\n",
        "%%R\n",
        "set.seed(1234)\n",
        "train_index <- sample(1:nrow(dss), 0.75 * nrow(dss))\n",
        "train <- dss[train_index, ]\n",
        "test <- dss[-train_index, ]"
      ],
      "metadata": {
        "id": "5-Iudb3_qJFf"
      },
      "execution_count": null,
      "outputs": []
    },
    {
      "cell_type": "code",
      "source": [
        "%%R\n",
        "nrow(train)"
      ],
      "metadata": {
        "id": "yhjLCRpIqI5j"
      },
      "execution_count": null,
      "outputs": []
    }
  ]
}