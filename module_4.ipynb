{
  "nbformat": 4,
  "nbformat_minor": 0,
  "metadata": {
    "colab": {
      "provenance": [],
      "authorship_tag": "ABX9TyNQmkZya4r2BU2tTjaI4+fw",
      "include_colab_link": true
    },
    "kernelspec": {
      "name": "python3",
      "display_name": "Python 3"
    },
    "language_info": {
      "name": "python"
    }
  },
  "cells": [
    {
      "cell_type": "markdown",
      "metadata": {
        "id": "view-in-github",
        "colab_type": "text"
      },
      "source": [
        "<a href=\"https://colab.research.google.com/github/pjd-code/data_literacy/blob/main/module_4.ipynb\" target=\"_parent\"><img src=\"https://colab.research.google.com/assets/colab-badge.svg\" alt=\"Open In Colab\"/></a>"
      ]
    },
    {
      "cell_type": "code",
      "source": [
        "!git clone"
      ],
      "metadata": {
        "id": "n8F53qa6Pesi"
      },
      "execution_count": null,
      "outputs": []
    },
    {
      "cell_type": "code",
      "execution_count": 1,
      "metadata": {
        "id": "qapsO1EfDzjv"
      },
      "outputs": [],
      "source": [
        "#you can use the rpy2 package in the Python runtime, this loads that package\n",
        "#now you can run R code by using the %%R magic command\n",
        "%load_ext rpy2.IPython"
      ]
    },
    {
      "cell_type": "code",
      "source": [
        "%%R\n"
      ],
      "metadata": {
        "id": "TfvPK9EWKoIH"
      },
      "execution_count": null,
      "outputs": []
    }
  ]
}